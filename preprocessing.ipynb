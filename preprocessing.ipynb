{
 "cells": [
  {
   "cell_type": "code",
   "execution_count": 53,
   "metadata": {},
   "outputs": [],
   "source": [
    "import pandas as pd \n",
    "import numpy as np\n",
    "import torch"
   ]
  },
  {
   "cell_type": "code",
   "execution_count": 9,
   "metadata": {},
   "outputs": [],
   "source": [
    "runner_df = pd.read_csv(\"data/raw/runners_UK2.csv\", index_col=[0])\n",
    "race_df = pd.read_csv(\"data/raw/races_UK2.csv\", index_col=[0])"
   ]
  },
  {
   "cell_type": "code",
   "execution_count": 10,
   "metadata": {},
   "outputs": [],
   "source": [
    "new_going = race_df['going'].astype('category').cat.codes"
   ]
  },
  {
   "cell_type": "code",
   "execution_count": 45,
   "metadata": {},
   "outputs": [
    {
     "data": {
      "text/plain": [
       "array(['6yo+', '4yo+', ' 4yo+', '3yo+', '5-7yo', '5yo', '3yo', ' 3yo',\n",
       "       ' 5yo+', '5yo+', '4yo', '4-6yo', '6yo', ' 4-6yo', ' 3yo+', '5-6yo',\n",
       "       '4-7yo', '3-5yo', '4-5yo', '4-8yo', ' 3-5yo', ' 4-5yo', '2yo',\n",
       "       ' 4yo', ' 6yo+', ' 10yo+', '3-4yo', ' 4-7yo', 0, ' 5-7yo', '2yo+',\n",
       "       ' 2yo', ' 3-4yo', '2-3yo', '0-45', ' 2yo+', ' 2-3yo', '3-6yo',\n",
       "       ' 5-6yo', '10yo+', ' 4-8yo', '7yo+', '9yo+', ' 8yo+', '8yo+',\n",
       "       ' 9yo+', ' 3-6yo', '5-8yo', '6-7yo'], dtype=object)"
      ]
     },
     "execution_count": 45,
     "metadata": {},
     "output_type": "execute_result"
    }
   ],
   "source": [
    "race_df['race_age'].unique()"
   ]
  },
  {
   "cell_type": "code",
   "execution_count": 31,
   "metadata": {},
   "outputs": [],
   "source": [
    "race_class_to_scale_dict = {\n",
    "    '(Class 7)': 1,\n",
    "    '(Class 6)': 2,\n",
    "    '(Class 5)': 3,\n",
    "    '(Class 4)': 4,\n",
    "    '(Class 3)': 5,\n",
    "    '(Class 2)': 6,\n",
    "    '(Class 1)': 7,\n",
    "}"
   ]
  },
  {
   "cell_type": "code",
   "execution_count": 22,
   "metadata": {},
   "outputs": [],
   "source": [
    "going_to_scale_dict = {\n",
    "    'Muddy': 0,\n",
    "    'Sloppy': 0,\n",
    "    'Very Soft': 1,\n",
    "    'Heavy': 1,\n",
    "    'Soft To Heavy': 2,\n",
    "    'Soft': 3,\n",
    "    'Yielding To Soft': 4,\n",
    "    'Good To Soft': 5,\n",
    "    'Yielding': 6,\n",
    "    'Good To Yielding': 7,\n",
    "    'Good':8,\n",
    "    'Good To Firm':9,\n",
    "    'Firm': 10,\n",
    "    'Frozen': 11,\n",
    "\n",
    "    'Slow': 3,\n",
    "    'Sta   ndard To Slow': 4,\n",
    "    'Standard To Slow': 4,\n",
    "    'Standard': 6,\n",
    "    'Fast': 8, \n",
    "    'Abandoned': 0,\n",
    "\n",
    "}"
   ]
  },
  {
   "cell_type": "code",
   "execution_count": null,
   "metadata": {},
   "outputs": [],
   "source": [
    "going_original_name_dict = {\n",
    "    'Muddy': 'heavy',\n",
    "    'Sloppy': 'heavy',\n",
    "    'Very Soft': 'heavy',\n",
    "    'Heavy': 'heavy',\n",
    "    'Soft To Heavy': 'soft',\n",
    "    'Soft': 'soft',\n",
    "    'Yielding To Soft': 'good_soft',\n",
    "    'Good To Soft': 'good_soft',\n",
    "    'Yielding': 'good_soft',\n",
    "    'Good To Yielding': 'good',\n",
    "    'Good':'good',\n",
    "    'Good To Firm':'good_firm',\n",
    "    'Firm': 'firm',\n",
    "    'Frozen': 'firm',\n",
    "\n",
    "    'Slow': 'soft',\n",
    "    'Sta   ndard To Slow': 'good_soft',\n",
    "    'Standard To Slow': 'good_soft',\n",
    "    'Standard': 'good',\n",
    "    'Fast': 'firm', \n",
    "    'Abandoned': 'firm',\n",
    "}"
   ]
  },
  {
   "cell_type": "code",
   "execution_count": 32,
   "metadata": {},
   "outputs": [],
   "source": [
    "race_df['race_class_cats'] = race_df['race_class'].replace(race_class_to_scale_dict)"
   ]
  },
  {
   "cell_type": "code",
   "execution_count": 23,
   "metadata": {},
   "outputs": [],
   "source": [
    "race_df['going_cats'] = race_df['going'].replace(going_to_scale_dict)"
   ]
  },
  {
   "cell_type": "code",
   "execution_count": 59,
   "metadata": {},
   "outputs": [
    {
     "data": {
      "text/plain": [
       "(0         3\n",
       " 1         3\n",
       " 2         3\n",
       " 3         6\n",
       " 4         6\n",
       "          ..\n",
       " 217000    8\n",
       " 217001    8\n",
       " 217002    8\n",
       " 217003    8\n",
       " 217004    8\n",
       " Name: going_cats, Length: 217005, dtype: object,\n",
       " 0             Soft\n",
       " 1             Soft\n",
       " 2             Soft\n",
       " 3         Standard\n",
       " 4         Standard\n",
       "             ...   \n",
       " 217000        Good\n",
       " 217001        Good\n",
       " 217002        Fast\n",
       " 217003        Fast\n",
       " 217004        Good\n",
       " Name: going, Length: 217005, dtype: object)"
      ]
     },
     "execution_count": 59,
     "metadata": {},
     "output_type": "execute_result"
    }
   ],
   "source": [
    "race_df['going_cats'], race_df['going']"
   ]
  },
  {
   "cell_type": "code",
   "execution_count": 57,
   "metadata": {},
   "outputs": [
    {
     "data": {
      "text/plain": [
       "array(['race_id', 'horse_ids', 'horse_names', 'draws', 'horse_ages',\n",
       "       'horse_weight', 'horse_win_percents', 'jockey_ids',\n",
       "       'jockey_win_percent', 'trainer_ids', 'trainer_win_percent',\n",
       "       'days_since_last_race', 'mean_speed_figures', 'last_figures',\n",
       "       'best_figures_dist', 'best_figures_going', 'top_speeds', 'ratings',\n",
       "       'official_ratings', 'odds', 'places'], dtype=object)"
      ]
     },
     "execution_count": 57,
     "metadata": {},
     "output_type": "execute_result"
    }
   ],
   "source": [
    "runner_df.columns.values"
   ]
  },
  {
   "cell_type": "code",
   "execution_count": 54,
   "metadata": {},
   "outputs": [
    {
     "ename": "NameError",
     "evalue": "name 'random' is not defined",
     "output_type": "error",
     "traceback": [
      "\u001b[0;31m---------------------------------------------------------------------------\u001b[0m",
      "\u001b[0;31mNameError\u001b[0m                                 Traceback (most recent call last)",
      "Cell \u001b[0;32mIn[54], line 1\u001b[0m\n\u001b[0;32m----> 1\u001b[0m runner_df[\u001b[39m'\u001b[39m\u001b[39mdraws\u001b[39m\u001b[39m'\u001b[39m]\u001b[39m.\u001b[39mreplace({np\u001b[39m.\u001b[39misnan, random()})\n",
      "\u001b[0;31mNameError\u001b[0m: name 'random' is not defined"
     ]
    }
   ],
   "source": [
    "runner_df['draws'].replace({np.isnan, np.random.randint()})"
   ]
  },
  {
   "cell_type": "code",
   "execution_count": 51,
   "metadata": {},
   "outputs": [
    {
     "data": {
      "text/plain": [
       "0     NaN\n",
       "1     NaN\n",
       "2     NaN\n",
       "3     NaN\n",
       "4     NaN\n",
       "     ... \n",
       "12    9.0\n",
       "13    9.0\n",
       "14    9.0\n",
       "15    4.0\n",
       "16    6.0\n",
       "Name: draws, Length: 2153513, dtype: float64"
      ]
     },
     "execution_count": 51,
     "metadata": {},
     "output_type": "execute_result"
    }
   ],
   "source": [
    "pd.qcut(runner_df['draws'], q=10, labels=False)"
   ]
  },
  {
   "cell_type": "code",
   "execution_count": 42,
   "metadata": {},
   "outputs": [
    {
     "data": {
      "text/plain": [
       "race_id            float64\n",
       "track_name          object\n",
       "track_id           float64\n",
       "race_class          object\n",
       "distance           float64\n",
       "going               object\n",
       "race_age            object\n",
       "race_handicap       object\n",
       "race_type           object\n",
       "date                object\n",
       "going_cats          object\n",
       "race_class_cats    float64\n",
       "dtype: object"
      ]
     },
     "execution_count": 42,
     "metadata": {},
     "output_type": "execute_result"
    }
   ],
   "source": [
    "race_df.dtypes"
   ]
  },
  {
   "cell_type": "code",
   "execution_count": 46,
   "metadata": {},
   "outputs": [
    {
     "data": {
      "text/plain": [
       "0     7.0\n",
       "1     6.0\n",
       "2     7.0\n",
       "3     8.0\n",
       "4     5.0\n",
       "     ... \n",
       "12    6.0\n",
       "13    5.0\n",
       "14    4.0\n",
       "15    4.0\n",
       "16    6.0\n",
       "Name: horse_ages, Length: 2153513, dtype: float64"
      ]
     },
     "execution_count": 46,
     "metadata": {},
     "output_type": "execute_result"
    }
   ],
   "source": [
    "runner_df['horse_ages']"
   ]
  },
  {
   "cell_type": "code",
   "execution_count": null,
   "metadata": {},
   "outputs": [],
   "source": []
  }
 ],
 "metadata": {
  "kernelspec": {
   "display_name": ".venv",
   "language": "python",
   "name": "python3"
  },
  "language_info": {
   "codemirror_mode": {
    "name": "ipython",
    "version": 3
   },
   "file_extension": ".py",
   "mimetype": "text/x-python",
   "name": "python",
   "nbconvert_exporter": "python",
   "pygments_lexer": "ipython3",
   "version": "3.8.10"
  },
  "orig_nbformat": 4
 },
 "nbformat": 4,
 "nbformat_minor": 2
}
